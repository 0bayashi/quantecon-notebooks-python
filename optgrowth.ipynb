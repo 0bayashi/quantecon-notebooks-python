{
 "cells": [
  {
   "cell_type": "markdown",
   "metadata": {},
   "source": [
    "\n",
    "<a id='optgrowth'></a>\n",
    "<div id=\"qe-notebook-header\" style=\"text-align:right;\">\n",
    "        <a href=\"https://quantecon.org/\" title=\"quantecon.org\">\n",
    "                <img style=\"width:250px;display:inline;\" src=\"https://assets.quantecon.org/img/qe-menubar-logo.svg\" alt=\"QuantEcon\">\n",
    "        </a>\n",
    "</div>"
   ]
  },
  {
   "cell_type": "markdown",
   "metadata": {},
   "source": [
    "# Optimal Growth I: The Stochastic Optimal Growth Model"
   ]
  },
  {
   "cell_type": "markdown",
   "metadata": {},
   "source": [
    "## Contents\n",
    "\n",
    "- [Optimal Growth I: The Stochastic Optimal Growth Model](#Optimal-Growth-I:-The-Stochastic-Optimal-Growth-Model)  \n",
    "  - [Overview](#Overview)  \n",
    "  - [The Model](#The-Model)  \n",
    "  - [Computation](#Computation)  \n",
    "  - [Exercises](#Exercises)  \n",
    "  - [Solutions](#Solutions)  "
   ]
  },
  {
   "cell_type": "markdown",
   "metadata": {},
   "source": [
    "In addition what’s in Anaconda, this lecture will need the following libraries"
   ]
  },
  {
   "cell_type": "code",
   "execution_count": 1,
   "metadata": {
    "hide-output": false
   },
   "outputs": [
    {
     "name": "stdout",
     "output_type": "stream",
     "text": [
      "Requirement already satisfied: quantecon in /home/quantecon/anaconda3/lib/python3.7/site-packages (0.4.2)\r\n"
     ]
    },
    {
     "name": "stdout",
     "output_type": "stream",
     "text": [
      "Requirement already satisfied: sympy in /home/quantecon/anaconda3/lib/python3.7/site-packages (from quantecon) (1.2)\r\n",
      "Requirement already satisfied: requests in /home/quantecon/anaconda3/lib/python3.7/site-packages (from quantecon) (2.19.1)\r\n",
      "Requirement already satisfied: numpy in /home/quantecon/anaconda3/lib/python3.7/site-packages (from quantecon) (1.15.1)\r\n",
      "Requirement already satisfied: scipy>=1.0.0 in /home/quantecon/anaconda3/lib/python3.7/site-packages (from quantecon) (1.1.0)\r\n",
      "Requirement already satisfied: numba>=0.38 in /home/quantecon/anaconda3/lib/python3.7/site-packages (from quantecon) (0.41.0)\r\n",
      "Requirement already satisfied: chardet<3.1.0,>=3.0.2 in /home/quantecon/anaconda3/lib/python3.7/site-packages (from requests->quantecon) (3.0.4)\r\n",
      "Requirement already satisfied: idna<2.8,>=2.5 in /home/quantecon/anaconda3/lib/python3.7/site-packages (from requests->quantecon) (2.7)\r\n",
      "Requirement already satisfied: urllib3<1.24,>=1.21.1 in /home/quantecon/anaconda3/lib/python3.7/site-packages (from requests->quantecon) (1.23)\r\n",
      "Requirement already satisfied: certifi>=2017.4.17 in /home/quantecon/anaconda3/lib/python3.7/site-packages (from requests->quantecon) (2018.10.15)\r\n",
      "Requirement already satisfied: llvmlite>=0.26.0dev0 in /home/quantecon/anaconda3/lib/python3.7/site-packages (from numba>=0.38->quantecon) (0.26.0)\r\n"
     ]
    },
    {
     "name": "stdout",
     "output_type": "stream",
     "text": [
      "\u001b[33mYou are using pip version 18.1, however version 19.0.3 is available.\r\n",
      "You should consider upgrading via the 'pip install --upgrade pip' command.\u001b[0m\r\n"
     ]
    },
    {
     "name": "stdout",
     "output_type": "stream",
     "text": [
      "Requirement already satisfied: interpolation in /home/quantecon/anaconda3/lib/python3.7/site-packages/interpolation-2.0.1-py3.7.egg (2.0.1)\r\n"
     ]
    },
    {
     "name": "stdout",
     "output_type": "stream",
     "text": [
      "Requirement already satisfied: numba in /home/quantecon/anaconda3/lib/python3.7/site-packages (from interpolation) (0.41.0)\r\n",
      "Requirement already satisfied: numpy in /home/quantecon/anaconda3/lib/python3.7/site-packages (from interpolation) (1.15.1)\r\n",
      "Requirement already satisfied: scipy in /home/quantecon/anaconda3/lib/python3.7/site-packages (from interpolation) (1.1.0)\r\n",
      "Requirement already satisfied: llvmlite>=0.26.0dev0 in /home/quantecon/anaconda3/lib/python3.7/site-packages (from numba->interpolation) (0.26.0)\r\n"
     ]
    },
    {
     "name": "stdout",
     "output_type": "stream",
     "text": [
      "\u001b[33mYou are using pip version 18.1, however version 19.0.3 is available.\r\n",
      "You should consider upgrading via the 'pip install --upgrade pip' command.\u001b[0m\r\n"
     ]
    }
   ],
   "source": [
    "!pip install quantecon\n",
    "!pip install interpolation"
   ]
  },
  {
   "cell_type": "markdown",
   "metadata": {},
   "source": [
    "## Overview\n",
    "\n",
    "In this lecture we’re going to study a simple optimal growth model with one agent\n",
    "\n",
    "The model is a version of the standard one sector infinite horizon growth model studied in\n",
    "\n",
    "- [[SLP89]](https://lectures.quantecon.org/py/zreferences.html#stokeylucas1989), chapter 2  \n",
    "- [[LS18]](https://lectures.quantecon.org/py/zreferences.html#ljungqvist2012), section 3.1  \n",
    "- [EDTC](http://johnstachurski.net/edtc.html), chapter 1  \n",
    "- [[Sun96]](https://lectures.quantecon.org/py/zreferences.html#sundaram1996), chapter 12  \n",
    "\n",
    "\n",
    "The technique we use to solve the model is dynamic programming\n",
    "\n",
    "Our treatment of dynamic programming follows on from earlier\n",
    "treatments in our lectures on [shortest paths](https://lectures.quantecon.org/py/short_path.html) and\n",
    "[job search](https://lectures.quantecon.org/py/mccall_model.html)\n",
    "\n",
    "We’ll discuss some of the technical details of dynamic programming as we\n",
    "go along\n",
    "\n",
    "Let’s start with some imports\n",
    "\n",
    "We use an interpolation function from the\n",
    "[interpolation.py package](https://github.com/EconForge/interpolation.py)\n",
    "because it comes in handy later when we want to just-in-time compile our code\n",
    "\n",
    "This library can be installed with the following command in Jupyter: `!pip install interpolation`"
   ]
  },
  {
   "cell_type": "code",
   "execution_count": 2,
   "metadata": {
    "hide-output": false
   },
   "outputs": [],
   "source": [
    "import numpy as np\n",
    "import matplotlib.pyplot as plt\n",
    "%matplotlib inline\n",
    "from interpolation import interp\n",
    "from numba import njit, prange\n",
    "from quantecon.optimize.scalar_maximization import brent_max"
   ]
  },
  {
   "cell_type": "markdown",
   "metadata": {},
   "source": [
    "## The Model\n",
    "\n",
    "\n",
    "<a id='index-1'></a>\n",
    "Consider an agent who owns an amount $ y_t \\in \\mathbb R_+ := [0, \\infty) $ of a consumption good at time $ t $\n",
    "\n",
    "This output can either be consumed or invested\n",
    "\n",
    "When the good is invested it is transformed one-for-one into capital\n",
    "\n",
    "The resulting capital stock, denoted here by $ k_{t+1} $, will then be used for production\n",
    "\n",
    "Production is stochastic, in that it also depends on a shock $ \\xi_{t+1} $ realized at the end of the current period\n",
    "\n",
    "Next period output is\n",
    "\n",
    "$$\n",
    "y_{t+1} := f(k_{t+1}) \\xi_{t+1}\n",
    "$$\n",
    "\n",
    "where $ f \\colon \\mathbb R_+ \\to \\mathbb R_+ $ is called the production function\n",
    "\n",
    "The resource constraint is\n",
    "\n",
    "\n",
    "<a id='equation-outcsdp0'></a>\n",
    "$$\n",
    "k_{t+1} + c_t \\leq y_t \\tag{1}\n",
    "$$\n",
    "\n",
    "and all variables are required to be nonnegative"
   ]
  },
  {
   "cell_type": "markdown",
   "metadata": {},
   "source": [
    "### Assumptions and Comments\n",
    "\n",
    "In what follows,\n",
    "\n",
    "- The sequence $ \\{\\xi_t\\} $ is assumed to be IID  \n",
    "- The common distribution of each $ \\xi_t $ will be denoted $ \\phi $  \n",
    "- The production function $ f $ is assumed to be increasing and continuous  \n",
    "- Depreciation of capital is not made explicit but can be incorporated into the production function  \n",
    "\n",
    "\n",
    "While many other treatments of the stochastic growth model use $ k_t $ as the state variable, we will use $ y_t $\n",
    "\n",
    "This will allow us to treat a stochastic model while maintaining only one state variable\n",
    "\n",
    "We consider alternative states and timing specifications in some of our other lectures"
   ]
  },
  {
   "cell_type": "markdown",
   "metadata": {},
   "source": [
    "### Optimization\n",
    "\n",
    "Taking $ y_0 $ as given, the agent wishes to maximize\n",
    "\n",
    "\n",
    "<a id='equation-texs0-og2'></a>\n",
    "$$\n",
    "\\mathbb E \\left[ \\sum_{t = 0}^{\\infty} \\beta^t u(c_t) \\right] \\tag{2}\n",
    "$$\n",
    "\n",
    "subject to\n",
    "\n",
    "\n",
    "<a id='equation-og-conse'></a>\n",
    "$$\n",
    "y_{t+1} = f(y_t - c_t) \\xi_{t+1}\n",
    "\\quad \\text{and} \\quad\n",
    "0 \\leq c_t \\leq y_t\n",
    "\\quad \\text{for all } t \\tag{3}\n",
    "$$\n",
    "\n",
    "where\n",
    "\n",
    "- $ u $ is a bounded, continuous and strictly increasing utility function and  \n",
    "- $ \\beta \\in (0, 1) $ is a discount factor  \n",
    "\n",
    "\n",
    "In [(3)](#equation-og-conse) we are assuming that the resource constraint [(1)](#equation-outcsdp0) holds with equality — which is reasonable because $ u $ is strictly increasing and no output will be wasted at the optimum\n",
    "\n",
    "In summary, the agent’s aim is to select a path $ c_0, c_1, c_2, \\ldots $ for consumption that is\n",
    "\n",
    "1. nonnegative,  \n",
    "1. feasible in the sense of [(1)](#equation-outcsdp0),  \n",
    "1. optimal, in the sense that it maximizes [(2)](#equation-texs0-og2) relative to all other feasible consumption sequences, and  \n",
    "1. *adapted*, in the sense that the action $ c_t $ depends only on\n",
    "  observable outcomes, not future outcomes such as $ \\xi_{t+1} $  \n",
    "\n",
    "\n",
    "In the present context\n",
    "\n",
    "- $ y_t $ is called the *state* variable — it summarizes the “state of the world” at the start of each period  \n",
    "- $ c_t $ is called the *control* variable — a value chosen by the agent each period after observing the state  "
   ]
  },
  {
   "cell_type": "markdown",
   "metadata": {},
   "source": [
    "### The Policy Function Approach\n",
    "\n",
    "\n",
    "<a id='index-2'></a>\n",
    "One way to think about solving this problem is to look for the best **policy function**\n",
    "\n",
    "A policy function is a map from past and present observables into current action\n",
    "\n",
    "We’ll be particularly interested in **Markov policies**, which are maps from the current state $ y_t $ into a current action $ c_t $\n",
    "\n",
    "For dynamic programming problems such as this one (in fact for any [Markov decision process](https://en.wikipedia.org/wiki/Markov_decision_process)), the optimal policy is always a Markov policy\n",
    "\n",
    "In other words, the current state $ y_t $ provides a sufficient statistic\n",
    "for the history in terms of making an optimal decision today\n",
    "\n",
    "This is quite intuitive but if you wish you can find proofs in texts such as [[SLP89]](https://lectures.quantecon.org/py/zreferences.html#stokeylucas1989) (section 4.1)\n",
    "\n",
    "Hereafter we focus on finding the best Markov policy\n",
    "\n",
    "In our context, a Markov policy is a function $ \\sigma \\colon\n",
    "\\mathbb R_+ \\to \\mathbb R_+ $, with the understanding that states are mapped to actions via\n",
    "\n",
    "$$\n",
    "c_t = \\sigma(y_t) \\quad \\text{for all } t\n",
    "$$\n",
    "\n",
    "In what follows, we will call $ \\sigma $ a *feasible consumption policy* if it satisfies\n",
    "\n",
    "\n",
    "<a id='equation-idp-fp-og2'></a>\n",
    "$$\n",
    "0 \\leq \\sigma(y) \\leq y\n",
    "\\quad \\text{for all} \\quad\n",
    "y \\in \\mathbb R_+ \\tag{4}\n",
    "$$\n",
    "\n",
    "In other words, a feasible consumption policy is a Markov policy that respects the resource constraint\n",
    "\n",
    "The set of all feasible consumption policies will be denoted by $ \\Sigma $\n",
    "\n",
    "Each $ \\sigma \\in \\Sigma $ determines a [continuous state Markov process](https://lectures.quantecon.org/py/stationary_densities.html) $ \\{y_t\\} $ for output via\n",
    "\n",
    "\n",
    "<a id='equation-firstp0-og2'></a>\n",
    "$$\n",
    "y_{t+1} = f(y_t - \\sigma(y_t)) \\xi_{t+1},\n",
    "\\quad y_0 \\text{ given} \\tag{5}\n",
    "$$\n",
    "\n",
    "This is the time path for output when we choose and stick with the policy $ \\sigma $\n",
    "\n",
    "We insert this process into the objective function to get\n",
    "\n",
    "\n",
    "<a id='equation-texss'></a>\n",
    "$$\n",
    "\\mathbb E\n",
    "\\left[ \\,\n",
    "\\sum_{t = 0}^{\\infty} \\beta^t u(c_t) \\,\n",
    "\\right] =\n",
    "\\mathbb E\n",
    "\\left[ \\,\n",
    "\\sum_{t = 0}^{\\infty} \\beta^t u(\\sigma(y_t)) \\,\n",
    "\\right] \\tag{6}\n",
    "$$\n",
    "\n",
    "This is the total expected present value of following policy $ \\sigma $ forever,\n",
    "given initial income $ y_0 $\n",
    "\n",
    "The aim is to select a policy that makes this number as large as possible\n",
    "\n",
    "The next section covers these ideas more formally"
   ]
  },
  {
   "cell_type": "markdown",
   "metadata": {},
   "source": [
    "### Optimality\n",
    "\n",
    "The $ \\sigma`**-value function** :math:`v_{\\sigma} $ associated with a given policy $ \\sigma $ is the mapping defined by\n",
    "\n",
    "\n",
    "<a id='equation-vfcsdp00'></a>\n",
    "$$\n",
    "v_{\\sigma}(y) =\n",
    "\\mathbb E \\left[ \\sum_{t = 0}^{\\infty} \\beta^t u(\\sigma(y_t)) \\right] \\tag{7}\n",
    "$$\n",
    "\n",
    "when $ \\{y_t\\} $ is given by [(5)](#equation-firstp0-og2) with $ y_0 = y $\n",
    "\n",
    "In other words, it is the lifetime value of following policy $ \\sigma $\n",
    "starting at initial condition $ y $\n",
    "\n",
    "The **value function** is then defined as\n",
    "\n",
    "\n",
    "<a id='equation-vfcsdp0'></a>\n",
    "$$\n",
    "v^*(y) := \\sup_{\\sigma \\in \\Sigma} \\; v_{\\sigma}(y) \\tag{8}\n",
    "$$\n",
    "\n",
    "The value function gives the maximal value that can be obtained from state $ y $, after considering all feasible policies\n",
    "\n",
    "A policy $ \\sigma \\in \\Sigma $ is called **optimal** if it attains the supremum in [(8)](#equation-vfcsdp0) for all $ y \\in \\mathbb R_+ $"
   ]
  },
  {
   "cell_type": "markdown",
   "metadata": {},
   "source": [
    "### The Bellman Equation\n",
    "\n",
    "With our assumptions on utility and production function, the value function as defined in [(8)](#equation-vfcsdp0) also satisfies a **Bellman equation**\n",
    "\n",
    "For this problem, the Bellman equation takes the form\n",
    "\n",
    "\n",
    "<a id='equation-fpb30'></a>\n",
    "$$\n",
    "v(y) = \\max_{0 \\leq c \\leq y}\n",
    "    \\left\\{\n",
    "        u(c) + \\beta \\int v(f(y - c) z) \\phi(dz)\n",
    "    \\right\\}\n",
    "\\qquad (y \\in \\mathbb R_+) \\tag{9}\n",
    "$$\n",
    "\n",
    "This is a *functional equation in* $ v $\n",
    "\n",
    "The term $ \\int v(f(y - c) z) \\phi(dz) $ can be understood as the expected next period value when\n",
    "\n",
    "- $ v $ is used to measure value  \n",
    "- the state is $ y $  \n",
    "- consumption is set to $ c $  \n",
    "\n",
    "\n",
    "As shown in [EDTC](http://johnstachurski.net/edtc.html), theorem 10.1.11 and a range of other texts\n",
    "\n",
    "> *The value function* $ v^* $ *satisfies the Bellman equation*\n",
    "\n",
    "\n",
    "In other words, [(9)](#equation-fpb30) holds when $ v=v^* $\n",
    "\n",
    "The intuition is that maximal value from a given state can be obtained by optimally trading off\n",
    "\n",
    "- current reward from a given action, vs  \n",
    "- expected discounted future value of the state resulting from that action  \n",
    "\n",
    "\n",
    "The Bellman equation is important because it gives us more information about the value function\n",
    "\n",
    "It also suggests a way of computing the value function, which we discuss below"
   ]
  },
  {
   "cell_type": "markdown",
   "metadata": {},
   "source": [
    "### Greedy policies\n",
    "\n",
    "The primary importance of the value function is that we can use it to compute optimal policies\n",
    "\n",
    "The details are as follows\n",
    "\n",
    "Given a continuous function $ v $ on $ \\mathbb R_+ $, we say that\n",
    "$ \\sigma \\in \\Sigma $ is $ v $-**greedy** if $ \\sigma(y) $ is a solution to\n",
    "\n",
    "\n",
    "<a id='equation-defgp20'></a>\n",
    "$$\n",
    "\\max_{0 \\leq c \\leq y}\n",
    "    \\left\\{\n",
    "    u(c) + \\beta \\int v(f(y - c) z) \\phi(dz)\n",
    "    \\right\\} \\tag{10}\n",
    "$$\n",
    "\n",
    "for every $ y \\in \\mathbb R_+ $\n",
    "\n",
    "In other words, $ \\sigma \\in \\Sigma $ is $ v $-greedy if it optimally\n",
    "trades off current and future rewards when $ v $ is taken to be the value\n",
    "function\n",
    "\n",
    "In our setting, we have the following key result\n",
    "\n",
    "> - A feasible consumption policy is optimal if and only it is $ v^* $-greedy  \n",
    "\n",
    "\n",
    "\n",
    "The intuition is similar to the intuition for the Bellman equation, which was\n",
    "provided after [(9)](#equation-fpb30)\n",
    "\n",
    "See, for example, theorem 10.1.11 of [EDTC](http://johnstachurski.net/edtc.html)\n",
    "\n",
    "Hence, once we have a good approximation to $ v^* $, we can compute the\n",
    "(approximately) optimal policy by computing the corresponding greedy policy\n",
    "\n",
    "The advantage is that we are now solving a much lower dimensional optimization\n",
    "problem"
   ]
  },
  {
   "cell_type": "markdown",
   "metadata": {},
   "source": [
    "### The Bellman Operator\n",
    "\n",
    "How, then, should we compute the value function?\n",
    "\n",
    "One way is to use the so-called **Bellman operator**\n",
    "\n",
    "(An operator is a map that sends functions into functions)\n",
    "\n",
    "The Bellman operator is denoted by $ T $ and defined by\n",
    "\n",
    "\n",
    "<a id='equation-fcbell20-optgrowth'></a>\n",
    "$$\n",
    "Tv(y) := \\max_{0 \\leq c \\leq y}\n",
    "\\left\\{\n",
    "    u(c) + \\beta \\int v(f(y - c) z) \\phi(dz)\n",
    "\\right\\}\n",
    "\\qquad (y \\in \\mathbb R_+) \\tag{11}\n",
    "$$\n",
    "\n",
    "In other words, $ T $ sends the function $ v $ into the new function\n",
    "$ Tv $ defined by [(11)](#equation-fcbell20-optgrowth)\n",
    "\n",
    "By construction, the set of solutions to the Bellman equation\n",
    "[(9)](#equation-fpb30) *exactly coincides with* the set of fixed points of $ T $\n",
    "\n",
    "For example, if $ Tv = v $, then, for any $ y \\geq 0 $,\n",
    "\n",
    "$$\n",
    "v(y)\n",
    "= Tv(y)\n",
    "= \\max_{0 \\leq c \\leq y}\n",
    "\\left\\{\n",
    "    u(c) + \\beta \\int v^*(f(y - c) z) \\phi(dz)\n",
    "\\right\\}\n",
    "$$\n",
    "\n",
    "which says precisely that $ v $ is a solution to the Bellman equation\n",
    "\n",
    "It follows that $ v^* $ is a fixed point of $ T $"
   ]
  },
  {
   "cell_type": "markdown",
   "metadata": {},
   "source": [
    "### Review of Theoretical Results\n",
    "\n",
    "\n",
    "<a id='index-3'></a>\n",
    "One can also show that $ T $ is a contraction mapping on the set of\n",
    "continuous bounded functions on $ \\mathbb R_+ $ under the supremum distance\n",
    "\n",
    "$$\n",
    "\\rho(g, h) = \\sup_{y \\geq 0} |g(y) - h(y)|\n",
    "$$\n",
    "\n",
    "See  [EDTC](http://johnstachurski.net/edtc.html), lemma 10.1.18\n",
    "\n",
    "Hence it has exactly one fixed point in this set, which we know is equal to the value function\n",
    "\n",
    "It follows that\n",
    "\n",
    "- The value function $ v^* $ is bounded and continuous  \n",
    "- Starting from any bounded and continuous $ v $, the sequence $ v, Tv, T^2v, \\ldots $\n",
    "  generated by iteratively applying $ T $ converges uniformly to $ v^* $  \n",
    "\n",
    "\n",
    "This iterative method is called **value function iteration**\n",
    "\n",
    "We also know that a feasible policy is optimal if and only if it is $ v^* $-greedy\n",
    "\n",
    "It’s not too hard to show that a $ v^* $-greedy policy exists\n",
    "(see  [EDTC](http://johnstachurski.net/edtc.html), theorem 10.1.11 if you get stuck)\n",
    "\n",
    "Hence at least one optimal policy exists\n",
    "\n",
    "Our problem now is how to compute it"
   ]
  },
  {
   "cell_type": "markdown",
   "metadata": {},
   "source": [
    "### Unbounded Utility\n",
    "\n",
    "\n",
    "<a id='index-5'></a>\n",
    "The results stated above assume that the utility function is bounded\n",
    "\n",
    "In practice economists often work with unbounded utility functions — and so will we\n",
    "\n",
    "In the unbounded setting, various optimality theories exist\n",
    "\n",
    "Unfortunately, they tend to be case specific, as opposed to valid for a large range of applications\n",
    "\n",
    "Nevertheless, their main conclusions are usually in line with those stated for\n",
    "the bounded case just above (as long as we drop the word “bounded”)\n",
    "\n",
    "Consult,  for example, section 12.2 of [EDTC](http://johnstachurski.net/edtc.html), [[Kam12]](https://lectures.quantecon.org/py/zreferences.html#kamihigashi2012) or [[MdRV10]](https://lectures.quantecon.org/py/zreferences.html#mv2010)"
   ]
  },
  {
   "cell_type": "markdown",
   "metadata": {},
   "source": [
    "## Computation\n",
    "\n",
    "\n",
    "<a id='index-6'></a>\n",
    "Let’s now look at computing the value function and the optimal policy"
   ]
  },
  {
   "cell_type": "markdown",
   "metadata": {},
   "source": [
    "### Fitted Value Iteration\n",
    "\n",
    "\n",
    "<a id='index-7'></a>\n",
    "The first step is to compute the value function by value function iteration\n",
    "\n",
    "In theory, the algorithm is as follows\n",
    "\n",
    "1. Begin with a function $ v $ — an initial condition  \n",
    "1. Solving [(11)](#equation-fcbell20-optgrowth), obtain the function $ Tv $  \n",
    "1. Unless some stopping condition is satisfied, set $ v = Tv $ and go to step 2  \n",
    "\n",
    "\n",
    "This generates the sequence $ v, Tv, T^2v, \\ldots $\n",
    "\n",
    "However, there is a problem we must confront before we implement this procedure:\n",
    "The iterates can neither be calculated exactly nor stored on a computer\n",
    "\n",
    "To see the issue, consider [(11)](#equation-fcbell20-optgrowth)\n",
    "\n",
    "Even if $ v $ is a known function, unless $ Tv $ can be shown to have\n",
    "some special structure, the only way to store it is to record the\n",
    "value $ Tv(y) $ for every $ y \\in \\mathbb R_+ $\n",
    "\n",
    "Clearly this is impossible\n",
    "\n",
    "What we will do instead is use **fitted value function iteration**\n",
    "\n",
    "The procedure is to record the value of the function $ Tv $ at only\n",
    "finitely many “grid” points $ y_1 < y_2 < \\cdots < y_I $ and reconstruct it from this information when required\n",
    "\n",
    "More precisely, the algorithm will be\n",
    "\n",
    "\n",
    "<a id='fvi-alg'></a>\n",
    "1. Begin with an array of values $ \\{ v_1, \\ldots, v_I \\} $ representing\n",
    "  the values of some initial function $ v $ on the grid points $ \\{ y_1, \\ldots, y_I \\} $  \n",
    "1. Build a function $ \\hat v $ on the state space $ \\mathbb R_+ $ by\n",
    "  interpolation or approximation, based on these data points  \n",
    "1. Obtain and record the value $ T \\hat v(y_i) $ on each grid point\n",
    "  $ y_i $ by repeatedly solving [(11)](#equation-fcbell20-optgrowth)  \n",
    "1. Unless some stopping condition is satisfied, set\n",
    "  $ \\{ v_1, \\ldots, v_I \\} = \\{ T \\hat v(y_1), \\ldots, T \\hat v(y_I) \\} $ and go to step 2  \n",
    "\n",
    "\n",
    "How should we go about step 2?\n",
    "\n",
    "This is a problem of function approximation, and there are many ways to approach it\n",
    "\n",
    "What’s important here is that the function approximation scheme must not only\n",
    "produce a good approximation to $ Tv $, but also combine well with the broader iteration algorithm described above\n",
    "\n",
    "One good choice from both respects is continuous piecewise linear interpolation (see <a href=/_static/pdfs/3ndp.pdf download>this paper</a> for further discussion)\n",
    "\n",
    "The next figure illustrates piecewise linear interpolation of an arbitrary\n",
    "function on grid points $ 0, 0.2, 0.4, 0.6, 0.8, 1 $"
   ]
  },
  {
   "cell_type": "code",
   "execution_count": 3,
   "metadata": {
    "hide-output": false
   },
   "outputs": [
    {
     "data": {
      "image/png": "[encoded data removed]",
      "text/plain": [
       "<Figure size 720x432 with 1 Axes>"
      ]
     },
     "metadata": {
      "needs_background": "light"
     },
     "output_type": "display_data"
    }
   ],
   "source": [
    "def f(x):\n",
    "    y1 = 2 * np.cos(6 * x) + np.sin(14 * x)\n",
    "    return y1 + 2.5\n",
    "\n",
    "def Af(x):\n",
    "    return interp(c_grid, f(c_grid), x)\n",
    "\n",
    "c_grid = np.linspace(0, 1, 6)\n",
    "f_grid = np.linspace(0, 1, 150)\n",
    "\n",
    "fig, ax = plt.subplots(figsize=(10, 6))\n",
    "\n",
    "ax.plot(f_grid, f(f_grid), 'b-', label='true function')\n",
    "ax.plot(f_grid, Af(f_grid), 'g-', label='linear approximation')\n",
    "ax.vlines(c_grid, c_grid * 0, f(c_grid), linestyle='dashed', alpha=0.5)\n",
    "\n",
    "ax.set(xlim=(0, 1), ylim=(0, 6))\n",
    "plt.show()"
   ]
  },
  {
   "cell_type": "markdown",
   "metadata": {},
   "source": [
    "Another advantage of piecewise linear interpolation is that it preserves\n",
    "useful shape properties such as monotonicity and concavity / convexity"
   ]
  },
  {
   "cell_type": "markdown",
   "metadata": {},
   "source": [
    "### Optimal Growth Model\n",
    "\n",
    "We will hold the primitives of the optimal growth model in a class\n",
    "\n",
    "The distribution $ \\phi $ of the shock is assumed to be lognormal,\n",
    "and so a draw from $ \\exp(\\mu + \\sigma \\zeta) $ when $ \\zeta $ is standard normal"
   ]
  },
  {
   "cell_type": "code",
   "execution_count": 4,
   "metadata": {
    "hide-output": false
   },
   "outputs": [],
   "source": [
    "class OptimalGrowthModel:\n",
    "\n",
    "    def __init__(self,\n",
    "                 f,                # Production function\n",
    "                 u,                # Utility function\n",
    "                 β=0.96,           # Discount factor\n",
    "                 μ=0,\n",
    "                 s=0.1,\n",
    "                 grid_max=4,\n",
    "                 grid_size=200,\n",
    "                 shock_size=250):\n",
    "\n",
    "        self.β, self.μ, self.s = β, μ, s\n",
    "        self.f, self.u = f, u\n",
    "\n",
    "        self.grid = np.linspace(1e-5, grid_max, grid_size)         # Set up grid\n",
    "        self.shocks = np.exp(μ + s * np.random.randn(shock_size))  # Store shocks"
   ]
  },
  {
   "cell_type": "markdown",
   "metadata": {},
   "source": [
    "### The Bellman Operator\n",
    "\n",
    "Here’s a function that generates a Bellman operator using linear interpolation"
   ]
  },
  {
   "cell_type": "code",
   "execution_count": 5,
   "metadata": {
    "hide-output": false
   },
   "outputs": [],
   "source": [
    "def operator_factory(og, parallel_flag=True):\n",
    "    \"\"\"\n",
    "    A function factory for building the Bellman operator, as well as\n",
    "    a function that computes greedy policies.\n",
    "\n",
    "    Here og is an instance of OptimalGrowthModel.\n",
    "    \"\"\"\n",
    "\n",
    "    f, u, β = og.f, og.u, og.β\n",
    "    grid, shocks = og.grid, og.shocks\n",
    "\n",
    "    @njit\n",
    "    def objective(c, v, y):\n",
    "        \"\"\"\n",
    "        The right hand side of the Bellman equation\n",
    "        \"\"\"\n",
    "        # First turn v into a function via interpolation\n",
    "        v_func = lambda x: interp(grid, v, x)\n",
    "        return u(c) + β * np.mean(v_func(f(y - c) * shocks))\n",
    "\n",
    "    @njit(parallel=parallel_flag)\n",
    "    def T(v):\n",
    "        \"\"\"\n",
    "        The Bellman operator\n",
    "        \"\"\"\n",
    "        v_new = np.empty_like(v)\n",
    "        for i in prange(len(grid)):\n",
    "            y = grid[i]\n",
    "            # Solve for optimal v at y\n",
    "            v_max = brent_max(objective, 1e-10, y, args=(v, y))[1]\n",
    "            v_new[i] = v_max\n",
    "        return v_new\n",
    "\n",
    "    @njit\n",
    "    def get_greedy(v):\n",
    "        \"\"\"\n",
    "        Computes the v-greedy policy of a given function v\n",
    "        \"\"\"\n",
    "        σ = np.empty_like(v)\n",
    "        for i in range(len(grid)):\n",
    "            y = grid[i]\n",
    "            # Solve for optimal c at y\n",
    "            c_max = brent_max(objective, 1e-10, y, args=(v, y))[0]\n",
    "            σ[i] = c_max\n",
    "        return σ\n",
    "\n",
    "    return T, get_greedy"
   ]
  },
  {
   "cell_type": "markdown",
   "metadata": {},
   "source": [
    "optgro\n",
    "The function `operator_factory` takes a class that represents the growth model,\n",
    "and returns the operator `T` and a function `get_greedy` that we will use to solve the model\n",
    "\n",
    "Notice that the expectation in [(11)](#equation-fcbell20-optgrowth) is computed via Monte Carlo, using the approximation\n",
    "\n",
    "$$\n",
    "\\int v(f(y - c) z) \\phi(dz) \\approx \\frac{1}{n} \\sum_{i=1}^n v(f(y - c) \\xi_i)\n",
    "$$\n",
    "\n",
    "where $ \\{\\xi_i\\}_{i=1}^n $ are IID draws from $ \\phi $\n",
    "\n",
    "Monte Carlo is not always the most efficient way to compute integrals numerically\n",
    "but it does have some theoretical advantages in the present setting\n",
    "\n",
    "(For example, it preserves the contraction mapping property of the Bellman operator — see, e.g., [[PalS13]](https://lectures.quantecon.org/py/zreferences.html#pal2013))\n",
    "\n",
    "\n",
    "<a id='benchmark-growth-mod'></a>"
   ]
  },
  {
   "cell_type": "markdown",
   "metadata": {},
   "source": [
    "### An Example\n",
    "\n",
    "Let’s test out our operator when\n",
    "\n",
    "- $ f(k) = k^{\\alpha} $  \n",
    "- $ u(c) = \\ln c $  \n",
    "- $ \\phi $ is the distribution of $ \\exp(\\mu + \\sigma \\zeta) $ when $ \\zeta $ is standard normal  \n",
    "\n",
    "\n",
    "As is well-known (see [[LS18]](https://lectures.quantecon.org/py/zreferences.html#ljungqvist2012), section 3.1.2), for this particular problem an exact analytical solution is available, with\n",
    "\n",
    "\n",
    "<a id='equation-dpi-tv'></a>\n",
    "$$\n",
    "v^*(y) =\n",
    "\\frac{\\ln (1 - \\alpha \\beta) }{ 1 - \\beta} +\n",
    "\\frac{(\\mu + \\alpha \\ln (\\alpha \\beta))}{1 - \\alpha}\n",
    " \\left[\n",
    "     \\frac{1}{1- \\beta} - \\frac{1}{1 - \\alpha \\beta}\n",
    " \\right] +\n",
    " \\frac{1}{1 - \\alpha \\beta} \\ln y \\tag{12}\n",
    "$$\n",
    "\n",
    "The optimal consumption policy is\n",
    "\n",
    "$$\n",
    "\\sigma^*(y) = (1 - \\alpha \\beta ) y\n",
    "$$\n",
    "\n",
    "We will define functions to compute the closed form solutions to check our answers"
   ]
  },
  {
   "cell_type": "code",
   "execution_count": 6,
   "metadata": {
    "hide-output": false
   },
   "outputs": [],
   "source": [
    "def σ_star(y, α, β):\n",
    "    \"\"\"\n",
    "    True optimal policy\n",
    "    \"\"\"\n",
    "    return (1 - α * β) * y\n",
    "\n",
    "def v_star(y, α, β, μ):\n",
    "    \"\"\"\n",
    "    True value function\n",
    "    \"\"\"\n",
    "    c1 = np.log(1 - α * β) / (1 - β)\n",
    "    c2 = (μ + α * np.log(α * β)) / (1 - α)\n",
    "    c3 = 1 / (1 - β)\n",
    "    c4 = 1 / (1 - α * β)\n",
    "    return c1 + c2 * (c3 - c4) + c4 * np.log(y)"
   ]
  },
  {
   "cell_type": "markdown",
   "metadata": {},
   "source": [
    "### A First Test\n",
    "\n",
    "To test our code, we want to see if we can replicate the analytical solution\n",
    "numerically, using fitted value function iteration\n",
    "\n",
    "First, having run the code for the general model shown above, let’s\n",
    "generate an instance of the model and generate its Bellman operator\n",
    "\n",
    "We first need to define a jitted version of the production function"
   ]
  },
  {
   "cell_type": "code",
   "execution_count": 7,
   "metadata": {
    "hide-output": false
   },
   "outputs": [],
   "source": [
    "α = 0.4  # Production function parameter\n",
    "\n",
    "@njit\n",
    "def f(k):\n",
    "    \"\"\"\n",
    "    Cobb-Douglas production function\n",
    "    \"\"\"\n",
    "    return k**α"
   ]
  },
  {
   "cell_type": "markdown",
   "metadata": {},
   "source": [
    "Now we will create an instance of the model and assign it to the variable `og`\n",
    "\n",
    "This instance will use the Cobb-Douglas production function and log utility"
   ]
  },
  {
   "cell_type": "code",
   "execution_count": 8,
   "metadata": {
    "hide-output": false
   },
   "outputs": [],
   "source": [
    "og = OptimalGrowthModel(f=f, u=np.log)"
   ]
  },
  {
   "cell_type": "markdown",
   "metadata": {},
   "source": [
    "We will use `og` to generate the Bellman operator and a function that computes\n",
    "greedy policies"
   ]
  },
  {
   "cell_type": "code",
   "execution_count": 9,
   "metadata": {
    "hide-output": false
   },
   "outputs": [],
   "source": [
    "T, get_greedy = operator_factory(og)"
   ]
  },
  {
   "cell_type": "markdown",
   "metadata": {},
   "source": [
    "Now let’s do some tests\n",
    "\n",
    "As one preliminary test, let’s see what happens when we apply our Bellman operator to the exact solution $ v^* $\n",
    "\n",
    "In theory, the resulting function should again be $ v^* $\n",
    "\n",
    "In practice we expect some small numerical error"
   ]
  },
  {
   "cell_type": "code",
   "execution_count": 10,
   "metadata": {
    "hide-output": false
   },
   "outputs": [
    {
     "data": {
      "image/png": "[encoded data removed]",
      "text/plain": [
       "<Figure size 648x360 with 1 Axes>"
      ]
     },
     "metadata": {
      "needs_background": "light"
     },
     "output_type": "display_data"
    }
   ],
   "source": [
    "grid = og.grid\n",
    "β, μ = og.β, og.μ\n",
    "\n",
    "v_init = v_star(grid, α, β, μ)    # Start at the solution\n",
    "v = T(v_init)                     # Apply the Bellman operator once\n",
    "\n",
    "fig, ax = plt.subplots(figsize=(9, 5))\n",
    "ax.set_ylim(-35, -24)\n",
    "ax.plot(grid, v, lw=2, alpha=0.6, label='$Tv^*$')\n",
    "ax.plot(grid, v_init, lw=2, alpha=0.6, label='$v^*$')\n",
    "ax.legend()\n",
    "plt.show()"
   ]
  },
  {
   "cell_type": "markdown",
   "metadata": {},
   "source": [
    "The two functions are essentially indistinguishable, so we are off to a good start\n",
    "\n",
    "Now let’s have a look at iterating with the Bellman operator, starting off\n",
    "from an arbitrary initial condition\n",
    "\n",
    "The initial condition we’ll start with is $ v(y) = 5 \\ln (y) $"
   ]
  },
  {
   "cell_type": "code",
   "execution_count": 11,
   "metadata": {
    "hide-output": false
   },
   "outputs": [
    {
     "data": {
      "image/png": "[encoded data removed]",
      "text/plain": [
       "<Figure size 648x432 with 1 Axes>"
      ]
     },
     "metadata": {
      "needs_background": "light"
     },
     "output_type": "display_data"
    }
   ],
   "source": [
    "v = 5 * np.log(grid)  # An initial condition\n",
    "n = 35\n",
    "\n",
    "fig, ax = plt.subplots(figsize=(9, 6))\n",
    "\n",
    "ax.plot(grid, v, color=plt.cm.jet(0),\n",
    "        lw=2, alpha=0.6, label='Initial condition')\n",
    "\n",
    "for i in range(n):\n",
    "    v = T(v)  # Apply the Bellman operator\n",
    "    ax.plot(grid, v, color=plt.cm.jet(i / n), lw=2, alpha=0.6)\n",
    "\n",
    "ax.plot(grid, v_star(grid, α, β, μ), 'k-', lw=2,\n",
    "        alpha=0.8, label='True value function')\n",
    "\n",
    "ax.legend()\n",
    "ax.set(ylim=(-40, 10), xlim=(np.min(grid), np.max(grid)))\n",
    "plt.show()"
   ]
  },
  {
   "cell_type": "markdown",
   "metadata": {},
   "source": [
    "The figure shows\n",
    "\n",
    "1. the first 36 functions generated by the fitted value function iteration algorithm, with hotter colors given to higher iterates  \n",
    "1. the true value function $ v^* $ drawn in black  \n",
    "\n",
    "\n",
    "The sequence of iterates converges towards $ v^* $\n",
    "\n",
    "We are clearly getting closer\n",
    "\n",
    "We can write a function that iterates until the difference is below a particular\n",
    "tolerance level"
   ]
  },
  {
   "cell_type": "code",
   "execution_count": 12,
   "metadata": {
    "hide-output": false
   },
   "outputs": [],
   "source": [
    "def solve_model(og,\n",
    "                use_parallel=True,\n",
    "                tol=1e-4,\n",
    "                max_iter=1000,\n",
    "                verbose=True,\n",
    "                print_skip=25):\n",
    "\n",
    "    T, _ = operator_factory(og, parallel_flag=use_parallel)\n",
    "\n",
    "    # Set up loop\n",
    "    v = np.log(og.grid)  # Initial condition\n",
    "    i = 0\n",
    "    error = tol + 1\n",
    "\n",
    "    while i < max_iter and error > tol:\n",
    "        v_new = T(v)\n",
    "        error = np.max(np.abs(v - v_new))\n",
    "        i += 1\n",
    "        if verbose and i % print_skip == 0:\n",
    "            print(f\"Error at iteration {i} is {error}.\")\n",
    "        v = v_new\n",
    "\n",
    "    if i == max_iter:\n",
    "        print(\"Failed to converge!\")\n",
    "\n",
    "    if verbose and i < max_iter:\n",
    "        print(f\"\\nConverged in {i} iterations.\")\n",
    "\n",
    "    return v_new"
   ]
  },
  {
   "cell_type": "markdown",
   "metadata": {},
   "source": [
    "We can check our result by plotting it against the true value"
   ]
  },
  {
   "cell_type": "code",
   "execution_count": 13,
   "metadata": {
    "hide-output": false
   },
   "outputs": [
    {
     "name": "stdout",
     "output_type": "stream",
     "text": [
      "Error at iteration 25 is 0.4164900752989382.\n",
      "Error at iteration 50 is 0.15009700695736683.\n"
     ]
    },
    {
     "name": "stdout",
     "output_type": "stream",
     "text": [
      "Error at iteration 75 is 0.054094468514474414.\n",
      "Error at iteration 100 is 0.01949546885290232.\n"
     ]
    },
    {
     "name": "stdout",
     "output_type": "stream",
     "text": [
      "Error at iteration 125 is 0.007026102968193726.\n",
      "Error at iteration 150 is 0.00253218444234804.\n"
     ]
    },
    {
     "name": "stdout",
     "output_type": "stream",
     "text": [
      "Error at iteration 175 is 0.0009125909594303039.\n",
      "Error at iteration 200 is 0.00032889478564968044.\n"
     ]
    },
    {
     "name": "stdout",
     "output_type": "stream",
     "text": [
      "Error at iteration 225 is 0.00011853260097183238.\n",
      "\n",
      "Converged in 230 iterations.\n"
     ]
    },
    {
     "data": {
      "image/png": "[encoded data removed]",
      "text/plain": [
       "<Figure size 648x360 with 1 Axes>"
      ]
     },
     "metadata": {
      "needs_background": "light"
     },
     "output_type": "display_data"
    }
   ],
   "source": [
    "v_solution = solve_model(og)\n",
    "\n",
    "fig, ax = plt.subplots(figsize=(9, 5))\n",
    "\n",
    "ax.plot(grid, v_solution, lw=2, alpha=0.6,\n",
    "        label='Approximate value function')\n",
    "\n",
    "ax.plot(grid, v_star(grid, α, β, μ), lw=2,\n",
    "        alpha=0.6, label='True value function')\n",
    "\n",
    "ax.legend()\n",
    "ax.set_ylim(-35, -24)\n",
    "plt.show()"
   ]
  },
  {
   "cell_type": "markdown",
   "metadata": {},
   "source": [
    "The figure shows that we are pretty much on the money"
   ]
  },
  {
   "cell_type": "markdown",
   "metadata": {},
   "source": [
    "### The Policy Function\n",
    "\n",
    "\n",
    "<a id='index-8'></a>\n",
    "To compute an approximate optimal policy, we will use the second function\n",
    "returned from `operator_factory` that backs out the optimal policy\n",
    "from the solution to the Bellman equation\n",
    "\n",
    "The next figure compares the result to the exact solution, which, as mentioned\n",
    "above, is $ \\sigma(y) = (1 - \\alpha \\beta) y $"
   ]
  },
  {
   "cell_type": "code",
   "execution_count": 14,
   "metadata": {
    "hide-output": false
   },
   "outputs": [
    {
     "data": {
      "image/png": "[encoded data removed]",
      "text/plain": [
       "<Figure size 648x360 with 1 Axes>"
      ]
     },
     "metadata": {
      "needs_background": "light"
     },
     "output_type": "display_data"
    }
   ],
   "source": [
    "fig, ax = plt.subplots(figsize=(9, 5))\n",
    "\n",
    "ax.plot(grid, get_greedy(v_solution), lw=2,\n",
    "        alpha=0.6, label='Approximate policy function')\n",
    "\n",
    "ax.plot(grid, σ_star(grid, α, β),\n",
    "        lw=2, alpha=0.6, label='True policy function')\n",
    "\n",
    "ax.legend()\n",
    "plt.show()"
   ]
  },
  {
   "cell_type": "markdown",
   "metadata": {},
   "source": [
    "The figure shows that we’ve done a good job in this instance of approximating\n",
    "the true policy"
   ]
  },
  {
   "cell_type": "markdown",
   "metadata": {},
   "source": [
    "## Exercises"
   ]
  },
  {
   "cell_type": "markdown",
   "metadata": {},
   "source": [
    "### Exercise 1\n",
    "\n",
    "Once an optimal consumption policy $ \\sigma $ is given, income follows [(5)](#equation-firstp0-og2)\n",
    "\n",
    "The next figure shows a simulation of 100 elements of this sequence for three\n",
    "different discount factors (and hence three different policies)\n",
    "\n",
    "<img src=\"https://s3-ap-southeast-2.amazonaws.com/lectures.quantecon.org/py/_static/figures/solution_og_ex2.png\" style=\"width:60%;height:60%\">\n",
    "\n",
    "  \n",
    "In each sequence, the initial condition is $ y_0 = 0.1 $\n",
    "\n",
    "The discount factors are `discount_factors = (0.8, 0.9, 0.98)`\n",
    "\n",
    "We have also dialed down the shocks a bit with `s = 0.05`\n",
    "\n",
    "Otherwise, the parameters and primitives are the same as the log linear model discussed earlier in the lecture\n",
    "\n",
    "Notice that more patient agents typically have higher wealth\n",
    "\n",
    "Replicate the figure modulo randomness"
   ]
  },
  {
   "cell_type": "markdown",
   "metadata": {},
   "source": [
    "## Solutions"
   ]
  },
  {
   "cell_type": "markdown",
   "metadata": {},
   "source": [
    "### Exercise 1\n",
    "\n",
    "Here’s one solution (assuming as usual that you’ve executed everything above)"
   ]
  },
  {
   "cell_type": "code",
   "execution_count": 15,
   "metadata": {
    "hide-output": false
   },
   "outputs": [],
   "source": [
    "def simulate_og(σ_func, og, α, y0=0.1, ts_length=100):\n",
    "    '''\n",
    "    Compute a time series given consumption policy σ.\n",
    "    '''\n",
    "    y = np.empty(ts_length)\n",
    "    ξ = np.random.randn(ts_length-1)\n",
    "    y[0] = y0\n",
    "    for t in range(ts_length-1):\n",
    "        y[t+1] = (y[t] - σ_func(y[t]))**α * np.exp(og.μ + og.s * ξ[t])\n",
    "    return y"
   ]
  },
  {
   "cell_type": "code",
   "execution_count": 16,
   "metadata": {
    "hide-output": false
   },
   "outputs": [
    {
     "data": {
      "image/png": "[encoded data removed]",
      "text/plain": [
       "<Figure size 648x432 with 1 Axes>"
      ]
     },
     "metadata": {
      "needs_background": "light"
     },
     "output_type": "display_data"
    }
   ],
   "source": [
    "fig, ax = plt.subplots(figsize=(9, 6))\n",
    "\n",
    "for β in (0.8, 0.9, 0.98):\n",
    "\n",
    "    og = OptimalGrowthModel(f, np.log, β=β, s=0.05)\n",
    "    grid = og.grid\n",
    "\n",
    "    v_solution = solve_model(og, verbose=False)\n",
    "\n",
    "    σ_star = get_greedy(v_solution)\n",
    "    σ_func = lambda x: interp(grid, σ_star, x)  # Define an optimal policy function\n",
    "    y = simulate_og(σ_func, og, α)\n",
    "    ax.plot(y, lw=2, alpha=0.6, label=rf'$\\beta = {β}$')\n",
    "\n",
    "ax.legend(loc='lower right')\n",
    "plt.show()"
   ]
  }
 ],
 "metadata": {
  "filename": "optgrowth.rst",
  "kernelspec": {
   "display_name": "Python",
   "language": "python3",
   "name": "python3"
  },
  "language_info": {
   "codemirror_mode": {
    "name": "ipython",
    "version": 3
   },
   "file_extension": ".py",
   "mimetype": "text/x-python",
   "name": "python",
   "nbconvert_exporter": "python",
   "pygments_lexer": "ipython3",
   "version": "3.7.0"
  },
  "title": "Optimal Growth I: The Stochastic Optimal Growth Model"
 },
 "nbformat": 4,
 "nbformat_minor": 2
}
