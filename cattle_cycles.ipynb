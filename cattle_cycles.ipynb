{
 "cells": [
  {
   "cell_type": "markdown",
   "metadata": {},
   "source": [
    "\n",
    "<a id='cattle-cycles'></a>\n",
    "<div id=\"qe-notebook-header\" align=\"right\" style=\"text-align:right;\">\n",
    "        <a href=\"https://quantecon.org/\" title=\"quantecon.org\">\n",
    "                <img style=\"width:250px;display:inline;\" width=\"250px\" src=\"https://assets.quantecon.org/img/qe-menubar-logo.svg\" alt=\"QuantEcon\">\n",
    "        </a>\n",
    "</div>\n",
    "\n",
    "\n",
    "<a id='index-0'></a>"
   ]
  },
  {
   "cell_type": "markdown",
   "metadata": {},
   "source": [
    "# Cattle Cycles"
   ]
  },
  {
   "cell_type": "markdown",
   "metadata": {},
   "source": [
    "## Contents\n",
    "\n",
    "- [Cattle Cycles](#Cattle-Cycles)  \n",
    "  - [The Model](#The-Model)  \n",
    "  - [Mapping into HS2013 Framework](#Mapping-into-HS2013-Framework)  "
   ]
  },
  {
   "cell_type": "markdown",
   "metadata": {},
   "source": [
    "**Co-author:** Sebastian Graves\n",
    "\n",
    "This is another member of a suite of lectures that use the quantecon DLE class to instantiate models within the\n",
    "[[HS13b]](https://lectures.quantecon.org/py/zreferences.html#hs2013) class of models described in detail in [Recursive Models of Dynamic Linear Economies](https://lectures.quantecon.org/py/hs_recursive_models.html)\n",
    "\n",
    "In addition what’s in Anaconda, this lecture uses the quantecon library"
   ]
  },
  {
   "cell_type": "code",
   "execution_count": 1,
   "metadata": {
    "hide-output": true
   },
   "outputs": [],
   "source": [
    "!pip install quantecon"
   ]
  },
  {
   "cell_type": "markdown",
   "metadata": {},
   "source": [
    "This lecture uses the DLE class to construct instances of  the “Cattle Cycles” model\n",
    "of Rosen, Murphy and Scheinkman (1994) [[RMS94]](https://lectures.quantecon.org/py/zreferences.html#rosen1994cattle)\n",
    "\n",
    "That paper constructs a rational expectations equilibrium model to\n",
    "understand sources of recurrent cycles in US cattle stocks and prices\n",
    "\n",
    "We make the following imports"
   ]
  },
  {
   "cell_type": "code",
   "execution_count": 2,
   "metadata": {
    "hide-output": false
   },
   "outputs": [],
   "source": [
    "import numpy as np\n",
    "import matplotlib.pyplot as plt\n",
    "from quantecon import LQ\n",
    "from collections import namedtuple\n",
    "from quantecon import DLE\n",
    "from math import sqrt\n",
    "%matplotlib inline"
   ]
  },
  {
   "cell_type": "markdown",
   "metadata": {},
   "source": [
    "## The Model\n",
    "\n",
    "The model features a static linear demand curve and a “time-to-grow”\n",
    "structure for cattle\n",
    "\n",
    "Let $ p_t $ be the price of slaughtered beef, $ m_t $ the cost\n",
    "of preparing an animal for slaughter, $ h_t $ the holding cost for a\n",
    "mature animal, $ \\gamma_1 h_t $ the holding cost for a yearling, and\n",
    "$ \\gamma_0 h_t $ the holding cost for a calf\n",
    "\n",
    "The cost processes $ \\{h_t, m_t \\}_{t=0}^\\infty $ are exogenous,\n",
    "while the price process $ \\{p_t \\}_{t=0}^\\infty $ is determined\n",
    "within a rational expectations equilibrium\n",
    "\n",
    "Let $ x_t $ be the breeding stock, and $ y_t $ be the total\n",
    "stock of cattle\n",
    "\n",
    "The law of motion for the breeding stock is\n",
    "\n",
    "$$\n",
    "x_t = (1-\\delta)x_{t-1} + gx_{t-3} - c_t\n",
    "$$\n",
    "\n",
    "where $ g < 1 $ is the number of calves that each member of the\n",
    "breeding stock has each year, and $ c_t $ is the number of cattle\n",
    "slaughtered\n",
    "\n",
    "The total head count of cattle is\n",
    "\n",
    "$$\n",
    "y_t = x_t + gx_{t-1} + gx_{t-2}\n",
    "$$\n",
    "\n",
    "This equation states that the total number of cattle equals the sum of\n",
    "adults, calves and yearlings, respectively\n",
    "\n",
    "A representative farmer chooses $ \\{c_t, x_t\\} $ to maximize:\n",
    "\n",
    "$$\n",
    "\\mathbb{E}_0 \\sum_{t=0}^\\infty \\beta^t \\{p_tc_t - h_tx_t - \\gamma_0 h_t(gx_{t-1}) - \\gamma_1 h_t(gx_{t-2}) - m_tc_t - \\frac{\\psi_1}{2}x_t^2 - \\frac{\\psi_2}{2}x_{t-1}^2 - \\frac{\\psi_3}{2}x_{t-3}^2 - \\frac{\\psi_4}{2}c_t^2 \\}\n",
    "$$\n",
    "\n",
    "subject to the law of motion for $ x_t $, taking as given the\n",
    "stochastic laws of motion for the exogenous processes, the equilibrium\n",
    "price process, and the initial state [$ x_{-1},x_{-2},x_{-3} $]\n",
    "\n",
    "**Remark** The $ \\psi_j $ parameters are very small quadratic costs\n",
    "that are included for technical reasons to make well posed and well\n",
    "behaved the linear quadratic dynamic programming problem solved by the\n",
    "fictious planner who in effect chooses equilibrium quantities and shadow\n",
    "prices\n",
    "\n",
    "Demand for beef is government by $ c_t = a_0 - a_1p_t + \\tilde d_t $\n",
    "where $ \\tilde d_t $ is a stochastic process with mean zero,\n",
    "representing a demand shifter"
   ]
  },
  {
   "cell_type": "markdown",
   "metadata": {},
   "source": [
    "## Mapping into HS2013 Framework"
   ]
  },
  {
   "cell_type": "markdown",
   "metadata": {},
   "source": [
    "### Preferences\n",
    "\n",
    "We set\n",
    "$ \\Lambda = 0, \\Delta_h = 0, \\Theta_h = 0, \\Pi = \\alpha_1^{-\\frac{1}{2}} $\n",
    "and $ b_t = \\Pi \\tilde d_t + \\Pi \\alpha_0 $\n",
    "\n",
    "With these settings, the FOC for the household’s problem becomes the\n",
    "demand curve of the “Cattle Cycles” model"
   ]
  },
  {
   "cell_type": "markdown",
   "metadata": {},
   "source": [
    "### Technology\n",
    "\n",
    "To capture the law of motion for cattle, we set\n",
    "\n",
    "$$\n",
    "\\Delta_k =\n",
    "\\left[ {\\begin{array}{ccc}\n",
    "   (1-\\delta) & 0 & g \\\\ 1 & 0 & 0 \\\\ 0 & 1 & 0\n",
    "   \\end{array} }\n",
    "   \\right] , \\\n",
    "   \\Theta_k =\n",
    "\\left[ {\\begin{array}{c}\n",
    "   1 \\\\ 0 \\\\ 0\n",
    "   \\end{array} }\n",
    "   \\right]\n",
    "$$\n",
    "\n",
    "(where $ i_t = - c_t $)\n",
    "\n",
    "To capture the production of cattle, we set\n",
    "\n",
    "$$\n",
    "\\Phi_c =\n",
    "\\left[ {\\begin{array}{c}\n",
    "   1 \\\\ f_1 \\\\ 0 \\\\ 0 \\\\ -f_7\n",
    "   \\end{array} }\n",
    "   \\right] , \\\n",
    "   \\Phi_g =\n",
    "\\left[ {\\begin{array}{cccc}\n",
    "   0 & 0 & 0 & 0 \\\\ 1 & 0 & 0 & 0 \\\\ 0 & 1 & 0 & 0 \\\\ 0 & 0 & 1 & 0 \\\\ 0 & 0 & 0 & 1\n",
    "   \\end{array} }\n",
    "   \\right] , \\\n",
    "   \\Phi_i =\n",
    "\\left[ {\\begin{array}{c}\n",
    "   1 \\\\ 0 \\\\ 0 \\\\ 0 \\\\ 0\n",
    "   \\end{array} }\n",
    "   \\right] , \\\n",
    "   \\Gamma =\n",
    "\\left[ {\\begin{array}{ccc}\n",
    "   0 & 0 & 0 \\\\ f_1(1-\\delta) & 0 & g f_1 \\\\ f_3 & 0 & 0 \\\\ 0 & f_5 & 0 \\\\ 0 & 0 & 0\n",
    "   \\end{array} }\n",
    "   \\right]\n",
    "$$"
   ]
  },
  {
   "cell_type": "markdown",
   "metadata": {},
   "source": [
    "### Information\n",
    "\n",
    "We set\n",
    "\n",
    "$$\n",
    "A_{22} =\n",
    "\\left[ {\\begin{array}{cccc}\n",
    "   1 & 0 & 0 & 0\\\\ 0 & \\rho_1 & 0 & 0 \\\\ 0 & 0 & \\rho_2 & 0 \\\\ 0 & 0 & 0 & \\rho_3\n",
    "   \\end{array} }\n",
    "   \\right] \\\n",
    ",   C_2 =\n",
    "\\left[ {\\begin{array}{ccc}\n",
    "   0 & 0 & 0\\\\ 1 & 0 & 0 \\\\ 0 & 1 & 0 \\\\ 0 & 0 & 15\n",
    "   \\end{array} }\n",
    "   \\right] \\\n",
    ",   U_b =\n",
    "\\left[ {\\begin{array}{cccc}\n",
    "   \\Pi \\alpha_0 & 0 & 0 & \\Pi\n",
    "   \\end{array} }\n",
    "   \\right] \\\n",
    ",   U_d =\n",
    "\\left[ {\\begin{array}{c}\n",
    "   0 \\\\ f_2 U_h \\\\ f_4 U_h \\\\ f_6 U_h \\\\ f_8 U_h\n",
    "   \\end{array} }\n",
    "   \\right]\n",
    "$$\n",
    "\n",
    "To map this into our class, we set $ f_1^2 = \\frac{\\Psi_1}{2} $,\n",
    "$ f_2^2 = \\frac{\\Psi_2}{2} $, $ f_3^2 = \\frac{\\Psi_3}{2} $,\n",
    "$ 2f_1f_2 = 1 $, $ 2f_3f_4 = \\gamma_0g $,\n",
    "$ 2f_5f_6 = \\gamma_1g $"
   ]
  },
  {
   "cell_type": "code",
   "execution_count": 3,
   "metadata": {
    "hide-output": false
   },
   "outputs": [],
   "source": [
    "# We define namedtuples in this way as it allows us to check, for example,\n",
    "# what matrices are associated with a particular technology.\n",
    "\n",
    "Information = namedtuple('Information', ['a22', 'c2', 'ub', 'ud'])\n",
    "Technology = namedtuple('Technology', ['ϕ_c', 'ϕ_g', 'ϕ_i', 'γ', 'δ_k', 'θ_k'])\n",
    "Preferences = namedtuple('Preferences', ['β', 'l_λ', 'π_h', 'δ_h', 'θ_h'])"
   ]
  },
  {
   "cell_type": "markdown",
   "metadata": {},
   "source": [
    "We set parameters to those used by [[RMS94]](https://lectures.quantecon.org/py/zreferences.html#rosen1994cattle)"
   ]
  },
  {
   "cell_type": "code",
   "execution_count": 4,
   "metadata": {
    "hide-output": false
   },
   "outputs": [],
   "source": [
    "β = np.array([[0.909]])\n",
    "lλ = np.array([[0]])\n",
    "\n",
    "a1 = 0.5\n",
    "πh = np.array([[1 / (sqrt(a1))]])\n",
    "δh = np.array([[0]])\n",
    "θh = np.array([[0]])\n",
    "\n",
    "δ = 0.1\n",
    "g = 0.85\n",
    "f1 = 0.001\n",
    "f3 = 0.001\n",
    "f5 = 0.001\n",
    "f7 = 0.001\n",
    "\n",
    "ϕc = np.array([[1], [f1], [0], [0], [-f7]])\n",
    "\n",
    "ϕg = np.array([[0, 0, 0, 0],\n",
    "               [1, 0, 0, 0],\n",
    "               [0, 1, 0, 0],\n",
    "               [0, 0, 1,0],\n",
    "               [0, 0, 0, 1]])\n",
    "\n",
    "ϕi = np.array([[1], [0], [0], [0], [0]])\n",
    "\n",
    "γ = np.array([[           0,  0,      0],\n",
    "              [f1 * (1 - δ),  0, g * f1],\n",
    "              [          f3,  0,      0],\n",
    "              [           0, f5,      0],\n",
    "              [           0,  0,      0]])\n",
    "\n",
    "δk = np.array([[1 - δ, 0, g],\n",
    "               [    1, 0, 0],\n",
    "               [    0, 1, 0]])\n",
    "\n",
    "θk = np.array([[1], [0], [0]])\n",
    "\n",
    "ρ1 = 0\n",
    "ρ2 = 0\n",
    "ρ3 = 0.6\n",
    "a0 = 500\n",
    "γ0 = 0.4\n",
    "γ1 = 0.7\n",
    "f2 = 1 / (2 * f1)\n",
    "f4 = γ0 * g / (2 * f3)\n",
    "f6 = γ1 * g / (2 * f5)\n",
    "f8 = 1 / (2 * f7)\n",
    "\n",
    "a22 = np.array([[1, 0, 0, 0],\n",
    "                [0, ρ1, 0, 0],\n",
    "                [0, 0, ρ2, 0],\n",
    "                [0, 0, 0, ρ3]])\n",
    "\n",
    "c2 = np.array([[0, 0,  0],\n",
    "               [1, 0,  0],\n",
    "               [0, 1,  0],\n",
    "               [0, 0, 15]])\n",
    "\n",
    "ub = np.array([[πh * a0, 0, 0, πh]])\n",
    "uh = np.array([[50, 1, 0, 0]])\n",
    "um = np.array([[100, 0, 1, 0]])\n",
    "ud = np.vstack(([0, 0, 0, 0],\n",
    "                f2 * uh, f4 * uh, f6 * uh, f8 * um))"
   ]
  },
  {
   "cell_type": "markdown",
   "metadata": {},
   "source": [
    "Notice that we have set $ \\rho_1 = \\rho_2 = 0 $, so $ h_t $ and\n",
    "$ m_t $ consist of a constant and a white noise component\n",
    "\n",
    "We set up the economy using tuples for information, technology and\n",
    "preference matrices below\n",
    "\n",
    "We also construct two extra information matrices, corresponding to cases\n",
    "when $ \\rho_3 = 1 $ and $ \\rho_3 = 0 $ (as opposed to the\n",
    "baseline case of $ \\rho_3 = 0.6 $)"
   ]
  },
  {
   "cell_type": "code",
   "execution_count": 5,
   "metadata": {
    "hide-output": false
   },
   "outputs": [
    {
     "data": {
      "text/plain": [
       "array([[1. , 0. , 0. , 0. ],\n",
       "       [0. , 0. , 0. , 0. ],\n",
       "       [0. , 0. , 0. , 0. ],\n",
       "       [0. , 0. , 0. , 0.6]])"
      ]
     },
     "execution_count": 5,
     "metadata": {},
     "output_type": "execute_result"
    }
   ],
   "source": [
    "Info1 = Information(a22, c2, ub, ud)\n",
    "Tech1 = Technology(ϕc, ϕg, ϕi, γ, δk, θk)\n",
    "Pref1 = Preferences(β, lλ, πh, δh, θh)\n",
    "\n",
    "ρ3_2 = 1\n",
    "a22_2 = np.array([[1,  0,  0,    0],\n",
    "                  [0, ρ1,  0,    0],\n",
    "                  [0,  0, ρ2,    0],\n",
    "                  [0,  0,  0, ρ3_2]])\n",
    "\n",
    "Info2 = Information(a22_2, c2, ub, ud)\n",
    "\n",
    "ρ3_3 = 0\n",
    "a22_3 = np.array([[1,  0,  0,    0],\n",
    "                  [0, ρ1,  0,    0],\n",
    "                  [0,  0, ρ2,    0],\n",
    "                  [0,  0,  0, ρ3_3]])\n",
    "\n",
    "Info3 = Information(a22_3, c2, ub, ud)\n",
    "\n",
    "# Example of how we can look at the matrices associated with a given namedtuple\n",
    "Info1.a22"
   ]
  },
  {
   "cell_type": "code",
   "execution_count": 6,
   "metadata": {
    "hide-output": false
   },
   "outputs": [],
   "source": [
    "# Use tuples to define DLE class\n",
    "Econ1 = DLE(Info1, Tech1, Pref1)\n",
    "Econ2 = DLE(Info2, Tech1, Pref1)\n",
    "Econ3 = DLE(Info3, Tech1, Pref1)\n",
    "\n",
    "# Calculate steady-state in baseline case and use to set initial condition\n",
    "Econ1.compute_steadystate(nnc=4)\n",
    "x0 = Econ1.zz"
   ]
  },
  {
   "cell_type": "code",
   "execution_count": 7,
   "metadata": {
    "hide-output": false
   },
   "outputs": [],
   "source": [
    "Econ1.compute_sequence(x0, ts_length=100)"
   ]
  },
  {
   "cell_type": "markdown",
   "metadata": {},
   "source": [
    "[[RMS94]](https://lectures.quantecon.org/py/zreferences.html#rosen1994cattle) use the model to understand the\n",
    "sources of recurrent cycles in total cattle stocks\n",
    "\n",
    "Plotting $ y_t $ for a simulation of their model shows its ability\n",
    "to generate cycles in quantities"
   ]
  },
  {
   "cell_type": "code",
   "execution_count": 8,
   "metadata": {
    "hide-output": false
   },
   "outputs": [
    {
     "data": {
      "image/png": "[encoded data removed]",
      "text/plain": [
       "<Figure size 432x288 with 1 Axes>"
      ]
     },
     "metadata": {
      "needs_background": "light"
     },
     "output_type": "display_data"
    }
   ],
   "source": [
    "TotalStock = Econ1.k[0] + g * Econ1.k[1] + g * Econ1.k[2]  # Calculation of y_t\n",
    "plt.plot(TotalStock)\n",
    "plt.xlim((-1, 100))\n",
    "plt.title('Total number of cattle')\n",
    "plt.show()"
   ]
  },
  {
   "cell_type": "markdown",
   "metadata": {},
   "source": [
    "In their Figure 3, [[RMS94]](https://lectures.quantecon.org/py/zreferences.html#rosen1994cattle) plot the impulse response functions\n",
    "of consumption and the breeding stock of cattle to the demand shock,\n",
    "$ \\tilde d_t $, under the three different values of $ \\rho_3 $\n",
    "\n",
    "We replicate their Figure 3 below"
   ]
  },
  {
   "cell_type": "code",
   "execution_count": 9,
   "metadata": {
    "hide-output": false
   },
   "outputs": [
    {
     "data": {
      "image/png": "[encoded data removed]",
      "text/plain": [
       "<Figure size 864x288 with 2 Axes>"
      ]
     },
     "metadata": {
      "needs_background": "light"
     },
     "output_type": "display_data"
    }
   ],
   "source": [
    "shock_demand = np.array([[0], [0], [1]])\n",
    "\n",
    "Econ1.irf(ts_length=25, shock=shock_demand)\n",
    "Econ2.irf(ts_length=25, shock=shock_demand)\n",
    "Econ3.irf(ts_length=25, shock=shock_demand)\n",
    "\n",
    "plt.figure(figsize=(12, 4))\n",
    "plt.subplot(121)\n",
    "plt.plot(Econ1.c_irf, label='$\\\\rho=0.6$')\n",
    "plt.plot(Econ2.c_irf, label='$\\\\rho=1$')\n",
    "plt.plot(Econ3.c_irf, label='$\\\\rho=0$')\n",
    "plt.title('Consumption response to demand shock')\n",
    "plt.legend()\n",
    "\n",
    "plt.subplot(122)\n",
    "plt.plot(Econ1.k_irf[:, 0], label='$\\\\rho=0.6$')\n",
    "plt.plot(Econ2.k_irf[:, 0], label='$\\\\rho=1$')\n",
    "plt.plot(Econ3.k_irf[:, 0], label='$\\\\rho=0$')\n",
    "plt.title('Breeding stock response to demand shock')\n",
    "plt.legend()\n",
    "plt.show()"
   ]
  },
  {
   "cell_type": "markdown",
   "metadata": {},
   "source": [
    "The above figures show how consumption patterns differ markedly,\n",
    "depending on the persistence of the demand shock:\n",
    "\n",
    "- If it is purely transitory ($ \\rho_3 = 0 $) then consumption\n",
    "  rises immediately, but is later reduced to build stocks up again.  \n",
    "- If it is permanent ($ \\rho_3 = 1 $), then consumption falls\n",
    "  immediately, in order to build up stocks to satisfy the permanent\n",
    "  rise in future demand.  \n",
    "\n",
    "\n",
    "In Figure 4 of their paper, [[RMS94]](https://lectures.quantecon.org/py/zreferences.html#rosen1994cattle) plot the response to a demand shock\n",
    "of the breeding stock *and* the total stock, for $ \\rho_3 = 0 $ and\n",
    "$ \\rho_3 = 0.6 $\n",
    "\n",
    "We replicate their Figure 4 below"
   ]
  },
  {
   "cell_type": "code",
   "execution_count": 10,
   "metadata": {
    "hide-output": false
   },
   "outputs": [
    {
     "data": {
      "image/png": "[encoded data removed]",
      "text/plain": [
       "<Figure size 864x288 with 2 Axes>"
      ]
     },
     "metadata": {
      "needs_background": "light"
     },
     "output_type": "display_data"
    }
   ],
   "source": [
    "Total1_irf = Econ1.k_irf[:, 0] + g * Econ1.k_irf[:, 1] + g * Econ1.k_irf[:, 2]\n",
    "Total3_irf = Econ3.k_irf[:, 0] + g * Econ3.k_irf[:, 1] + g * Econ3.k_irf[:, 2]\n",
    "\n",
    "plt.figure(figsize=(12, 4))\n",
    "plt.subplot(121)\n",
    "plt.plot(Econ1.k_irf[:, 0], label='Breeding Stock')\n",
    "plt.plot(Total1_irf, label='Total Stock')\n",
    "plt.title('$\\\\rho=0.6$')\n",
    "\n",
    "plt.subplot(122)\n",
    "plt.plot(Econ3.k_irf[:, 0], label='Breeding Stock')\n",
    "plt.plot(Total3_irf, label='Total Stock')\n",
    "plt.title('$\\\\rho=0$')\n",
    "plt.show()"
   ]
  },
  {
   "cell_type": "markdown",
   "metadata": {},
   "source": [
    "The fact that $ y_t $ is a weighted moving average of $ x_t $\n",
    "creates a humped shape response of the total stock in response to demand\n",
    "shocks, contributing to the cyclicality seen in the first graph of this\n",
    "lecture"
   ]
  }
 ],
 "metadata": {
  "filename": "cattle_cycles.rst",
  "kernelspec": {
   "display_name": "Python",
   "language": "python3",
   "name": "python3"
  },
  "language_info": {
   "codemirror_mode": {
    "name": "ipython",
    "version": 3
   },
   "file_extension": ".py",
   "mimetype": "text/x-python",
   "name": "python",
   "nbconvert_exporter": "python",
   "pygments_lexer": "ipython3",
   "version": "3.7.0"
  },
  "title": "Cattle Cycles"
 },
 "nbformat": 4,
 "nbformat_minor": 2
}
