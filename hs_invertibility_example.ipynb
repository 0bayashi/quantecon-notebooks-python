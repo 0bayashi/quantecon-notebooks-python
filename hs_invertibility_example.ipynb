{
 "cells": [
  {
   "cell_type": "markdown",
   "metadata": {},
   "source": [
    "\n",
    "<a id='hs-invertibility-example'></a>\n",
    "<div id=\"qe-notebook-header\" align=\"right\" style=\"text-align:right;\">\n",
    "        <a href=\"https://quantecon.org/\" title=\"quantecon.org\">\n",
    "                <img style=\"width:250px;display:inline;\" width=\"250px\" src=\"https://assets.quantecon.org/img/qe-menubar-logo.svg\" alt=\"QuantEcon\">\n",
    "        </a>\n",
    "</div>\n",
    "\n",
    "\n",
    "<a id='index-0'></a>"
   ]
  },
  {
   "cell_type": "markdown",
   "metadata": {},
   "source": [
    "# Shock Non Invertibility"
   ]
  },
  {
   "cell_type": "markdown",
   "metadata": {},
   "source": [
    "## Contents\n",
    "\n",
    "- [Shock Non Invertibility](#Shock-Non-Invertibility)  "
   ]
  },
  {
   "cell_type": "markdown",
   "metadata": {},
   "source": [
    "This is another member of a suite of lectures that use the quantecon DLE class to instantiate models within the\n",
    "[[HS13b]](https://lectures.quantecon.org/py/zreferences.html#hs2013) class of models described in detail in [Recursive Models of Dynamic Linear Economies](https://lectures.quantecon.org/py/hs_recursive_models.html)\n",
    "\n",
    "In addition to what’s in Anaconda, this lecture uses the quantecon library"
   ]
  },
  {
   "cell_type": "code",
   "execution_count": 1,
   "metadata": {
    "hide-output": true
   },
   "outputs": [],
   "source": [
    "!pip install quantecon"
   ]
  },
  {
   "cell_type": "markdown",
   "metadata": {},
   "source": [
    "We’ll make these imports"
   ]
  },
  {
   "cell_type": "code",
   "execution_count": 2,
   "metadata": {
    "hide-output": false
   },
   "outputs": [],
   "source": [
    "import numpy as np\n",
    "import quantecon as qe\n",
    "import matplotlib.pyplot as plt\n",
    "from quantecon import LQ\n",
    "from quantecon import DLE\n",
    "from math import sqrt\n",
    "%matplotlib inline"
   ]
  },
  {
   "cell_type": "markdown",
   "metadata": {},
   "source": [
    "This lecture can be viewed as introducing  an early contribution to what is now often called\n",
    "a **news and noise** issue\n",
    "\n",
    "In particular, it analyzes and illustrates an **invertibility** issue that is\n",
    "endemic within a class of permanent income models\n",
    "\n",
    "Technically, the invertibility problem indicates a situation in which\n",
    "histories of the shocks in an econometrician’s autoregressive or Wold\n",
    "moving average representation span a smaller information space than do\n",
    "the shocks seen by the agent inside the econometrician’s model\n",
    "\n",
    "This situation sets the stage for an econometrician who is unaware of the\n",
    "problem to  misinterpret  shocks and likely responses to them\n",
    "\n",
    "We consider the following modification  of Robert Hall’s (1978) model [[Hal78]](https://lectures.quantecon.org/py/zreferences.html#hall1978) in which the\n",
    "endowment process is the sum of two orthogonal autoregressive processes:\n",
    "\n",
    "**Preferences**\n",
    "\n",
    "$$\n",
    "-\\frac{1}{2}\\mathbb{E}\\sum_{t=0}^\\infty \\beta^t[(c_t - b_t)^2 + l_t^2]|J_0\n",
    "$$\n",
    "\n",
    "$$\n",
    "s_t = c_t\n",
    "$$\n",
    "\n",
    "$$\n",
    "b_t = U_bz_t\n",
    "$$\n",
    "\n",
    "**Technology**\n",
    "\n",
    "$$\n",
    "c_t + i_t = \\gamma k_{t-1} + d_t\n",
    "$$\n",
    "\n",
    "$$\n",
    "k_t = \\delta_k k_{t-1} + i_t\n",
    "$$\n",
    "\n",
    "$$\n",
    "g_t = \\phi_1 i_t \\, , \\phi_1 > 0\n",
    "$$\n",
    "\n",
    "$$\n",
    "g_t \\cdot g_t = l_t^2\n",
    "$$\n",
    "\n",
    "**Information**\n",
    "\n",
    "$$\n",
    "z_{t+1} =\n",
    "\\left[ {\\begin{array}{cccccc}\n",
    "   1 & 0 & 0 & 0 & 0 & 0 \\\\ 0 & 0.9 & 0 & 0 & 0 & 0 \\\\ 0 & 0 & 0 & 0 & 0 & 0 \\\\ 0 & 0 & 1 & 0 & 0 & 0 \\\\ 0 & 0 & 0 & 1 & 0 & 0 \\\\ 0 & 0 & 0 & 0 & 1 & 0\n",
    "   \\end{array} }\n",
    "   \\right]\n",
    "   z_t +\n",
    "    \\left[ {\\begin{array}{cc}\n",
    "   0 & 0 \\\\ 1 & 0 \\\\ 0 & 4 \\\\ 0 & 0 \\\\ 0 & 0 \\\\ 0 & 0\n",
    "   \\end{array} }\n",
    "   \\right]\n",
    "   w_{t+1}\n",
    "$$\n",
    "\n",
    "$$\n",
    "U_b =\n",
    "  \\left[ {\\begin{array}{cccccc}\n",
    "  30 & 0 & 0 & 0 & 0 & 0\n",
    "  \\end{array} }\n",
    "  \\right]\n",
    "$$\n",
    "\n",
    "$$\n",
    "U_d =\n",
    "   \\left[ {\\begin{array}{cccccc}\n",
    "   5 & 1 & 1 & 0.8 & 0.6 & 0.4 \\\\ 0 & 0 & 0 & 0 & 0 & 0\n",
    "   \\end{array} }\n",
    "   \\right]\n",
    "$$\n",
    "\n",
    "The preference shock is constant at 30, while the endowment process is\n",
    "the sum of a constant and two orthogonal processes\n",
    "\n",
    "Specifically:\n",
    "\n",
    "$$\n",
    "d_t = 5 + d_{1t} + d_{2t}\n",
    "$$\n",
    "\n",
    "$$\n",
    "d_{1t} = 0.9d_{1t-1} + w_{1t}\n",
    "$$\n",
    "\n",
    "$$\n",
    "d_{2t} = 4w_{2t} + 0.8(4w_{2t-1})+ 0.6(4w_{2t-2})+ 0.4(4w_{2t-3})\n",
    "$$\n",
    "\n",
    "$ d_{1t} $ is a first-order AR process, while $ d_{2t} $ is a\n",
    "third order pure moving average process"
   ]
  },
  {
   "cell_type": "code",
   "execution_count": 3,
   "metadata": {
    "hide-output": false
   },
   "outputs": [],
   "source": [
    "γ_1 = 0.05\n",
    "γ = np.array([[γ_1], [0]])\n",
    "ϕ_c = np.array([[1], [0]])\n",
    "ϕ_g = np.array([[0], [1]])\n",
    "ϕ_1 = 0.00001\n",
    "ϕ_i = np.array([[1], [-ϕ_1]])\n",
    "δ_k = np.array([[1]])\n",
    "θ_k = np.array([[1]])\n",
    "β = np.array([[1 / 1.05]])\n",
    "l_λ = np.array([[0]])\n",
    "π_h = np.array([[1]])\n",
    "δ_h = np.array([[.9]])\n",
    "θ_h = np.array([[1]]) - δ_h\n",
    "ud = np.array([[5, 1, 1, 0.8, 0.6, 0.4],\n",
    "               [0, 0, 0,   0,   0,   0]])\n",
    "a22 = np.zeros((6, 6))\n",
    "a22[[0, 1, 3, 4, 5], [0, 1, 2, 3, 4]] = np.array([1.0, 0.9, 1.0, 1.0, 1.0])  # Chase's great trick\n",
    "c2 = np.zeros((6, 2))\n",
    "c2[[1, 2], [0, 1]] = np.array([1.0, 4.0])\n",
    "ub = np.array([[30, 0, 0, 0, 0, 0]])\n",
    "x0 = np.array([[5], [150], [1], [0], [0], [0], [0], [0]])\n",
    "\n",
    "Info1 = (a22, c2, ub, ud)\n",
    "Tech1 = (ϕ_c, ϕ_g, ϕ_i, γ, δ_k, θ_k)\n",
    "Pref1 = (β, l_λ, π_h, δ_h, θ_h)\n",
    "\n",
    "Econ1 = DLE(Info1, Tech1, Pref1)"
   ]
  },
  {
   "cell_type": "markdown",
   "metadata": {},
   "source": [
    "We define the household’s net of interest deficit as $ c_t - d_t $\n",
    "\n",
    "Hall’s model imposes “expected present-value budget balance” in the\n",
    "sense that\n",
    "\n",
    "$$\n",
    "\\mathbb{E}\\sum_{j=0}^\\infty \\beta^j (c_{t+j} - d_{t+j})|J_t = \\beta^{-1}k_{t-1} \\, \\forall t\n",
    "$$\n",
    "\n",
    "If we define the moving average representation of\n",
    "$ (c_t, c_t - d_t) $ in terms of the $ w_t $s to be:\n",
    "\n",
    "$$\n",
    "\\left[ {\\begin{array}{c}\n",
    "  c_t \\\\ c_t - d_t\n",
    "  \\end{array} }\n",
    "  \\right]  = \\left[ {\\begin{array}{c}\n",
    "  \\sigma_1(L) \\\\ \\sigma_2(L)\n",
    "  \\end{array} }\n",
    "  \\right] w_t\n",
    "$$\n",
    "\n",
    "then Hall’s model imposes the restriction\n",
    "$ \\sigma_2(\\beta) = [0\\,\\,\\,0] $\n",
    "\n",
    "The agent inside this model sees histories of both components of the\n",
    "endowment process $ d_{1t} $ and $ d_{2t} $\n",
    "\n",
    "The econometrician has data on the history of the pair\n",
    "$ [c_t,d_t] $, but not directly on the history of $ w_t $\n",
    "\n",
    "The econometrician obtains a Wold representation for the process\n",
    "$ [c_t,c_t-d_t] $:\n",
    "\n",
    "$$\n",
    "\\left[ {\\begin{array}{c}\n",
    "  c_t \\\\ c_t - d_t\n",
    "  \\end{array} }\n",
    "  \\right]  = \\left[ {\\begin{array}{c}\n",
    "  \\sigma_1^*(L) \\\\ \\sigma_2^*(L)\n",
    "  \\end{array} }\n",
    "  \\right] u_t\n",
    "$$\n",
    "\n",
    "The Appendix of chapter 8 of [[HS13b]](https://lectures.quantecon.org/py/zreferences.html#hs2013)  explains why the impulse\n",
    "response functions in the Wold representation estimated by the\n",
    "econometrician do not resemble the impulse response functions that\n",
    "depict the response of consumption and the deficit to innovations to\n",
    "agents’ information\n",
    "\n",
    "Technically, $ \\sigma_2(\\beta) = [0\\,\\,\\,0] $ implies that the\n",
    "history of $ u_t $s spans a *smaller* linear space than does the\n",
    "history of $ w_t $s\n",
    "\n",
    "This means that $ u_t $ will typically be a distributed lag of\n",
    "$ w_t $ that is not concentrated at zero lag:\n",
    "\n",
    "$$\n",
    "u_t = \\sum_{j=0}^\\infty \\alpha_j w_{t-j}\n",
    "$$\n",
    "\n",
    "Thus, the econometrician’s news $ u_t $ potentially responds\n",
    "belatedly to agents’ news $ w_t $\n",
    "\n",
    "We will construct Figures from Chapter 8 Appendix E of [[HS13b]](https://lectures.quantecon.org/py/zreferences.html#hs2013) to\n",
    "illustrate these ideas:"
   ]
  },
  {
   "cell_type": "code",
   "execution_count": 4,
   "metadata": {
    "hide-output": false
   },
   "outputs": [
    {
     "data": {
      "image/png": "[encoded data removed]",
      "text/plain": [
       "<Figure size 864x288 with 2 Axes>"
      ]
     },
     "metadata": {
      "needs_background": "light"
     },
     "output_type": "display_data"
    }
   ],
   "source": [
    "# This is Fig 8.E.1 from p.188 of HS2013\n",
    "\n",
    "Econ1.irf(ts_length=40, shock=None)\n",
    "\n",
    "plt.figure(figsize=(12, 4))\n",
    "plt.subplot(121)\n",
    "plt.plot(Econ1.c_irf, label='Consumption')\n",
    "plt.plot(Econ1.c_irf - Econ1.d_irf[:,0].reshape(40,1), label='Deficit')\n",
    "plt.legend()\n",
    "plt.title('Response to $w_{1t}$')\n",
    "\n",
    "shock2 = np.array([[0], [1]])\n",
    "Econ1.irf(ts_length=40, shock=shock2)\n",
    "\n",
    "plt.subplot(122)\n",
    "plt.plot(Econ1.c_irf, label='Consumption')\n",
    "plt.plot(Econ1.c_irf - Econ1.d_irf[:,0].reshape(40, 1), label='Deficit')\n",
    "plt.legend()\n",
    "plt.title('Response to $w_{2t}$')\n",
    "plt.show()"
   ]
  },
  {
   "cell_type": "markdown",
   "metadata": {},
   "source": [
    "The above figure displays the impulse response of consumption and the\n",
    "deficit to the endowment innovations\n",
    "\n",
    "Consumption displays the characteristic “random walk” response with\n",
    "respect to each innovation\n",
    "\n",
    "Each endowment innovation leads to a\n",
    "temporary surplus followed by a permanent net-of-interest deficit\n",
    "\n",
    "The temporary surplus just offsets the permanent deficit in terms of\n",
    "expected present value"
   ]
  },
  {
   "cell_type": "code",
   "execution_count": 5,
   "metadata": {
    "hide-output": false
   },
   "outputs": [
    {
     "data": {
      "image/png": "[encoded data removed]",
      "text/plain": [
       "<Figure size 864x288 with 2 Axes>"
      ]
     },
     "metadata": {
      "needs_background": "light"
     },
     "output_type": "display_data"
    }
   ],
   "source": [
    "G_HS = np.vstack([Econ1.Sc, Econ1.Sc-Econ1.Sd[0, :].reshape(1, 8)])\n",
    "H_HS = 1e-8 * np.eye(2)  # Set very small so there is no measurement error\n",
    "LSS_HS = qe.LinearStateSpace(Econ1.A0, Econ1.C, G_HS, H_HS)\n",
    "\n",
    "HS_kal = qe.Kalman(LSS_HS)\n",
    "w_lss = HS_kal.whitener_lss()\n",
    "ma_coefs = HS_kal.stationary_coefficients(50, 'ma')\n",
    "\n",
    "# This is Fig 8.E.2 from p.189 of HS2013\n",
    "\n",
    "ma_coefs = ma_coefs\n",
    "jj = 50\n",
    "y1_w1 = np.empty(jj)\n",
    "y2_w1 = np.empty(jj)\n",
    "y1_w2 = np.empty(jj)\n",
    "y2_w2 = np.empty(jj)\n",
    "\n",
    "for t in range(jj):\n",
    "    y1_w1[t] = ma_coefs[t][0, 0]\n",
    "    y1_w2[t] = ma_coefs[t][0, 1]\n",
    "    y2_w1[t] = ma_coefs[t][1, 0]\n",
    "    y2_w2[t] = ma_coefs[t][1, 1]\n",
    "\n",
    "# This scales the impulse responses to match those in the book\n",
    "y1_w1 = sqrt(HS_kal.stationary_innovation_covar()[0, 0]) * y1_w1\n",
    "y2_w1 = sqrt(HS_kal.stationary_innovation_covar()[0, 0]) * y2_w1\n",
    "y1_w2 = sqrt(HS_kal.stationary_innovation_covar()[1, 1]) * y1_w2\n",
    "y2_w2 = sqrt(HS_kal.stationary_innovation_covar()[1, 1]) * y2_w2\n",
    "\n",
    "plt.figure(figsize=(12, 4))\n",
    "plt.subplot(121)\n",
    "plt.plot(y1_w1, label='Consumption')\n",
    "plt.plot(y2_w1, label='Deficit')\n",
    "plt.legend()\n",
    "plt.title('Response to $u_{1t}$')\n",
    "\n",
    "plt.subplot(122)\n",
    "plt.plot(y1_w2, label='Consumption')\n",
    "plt.plot(y2_w2, label='Deficit')\n",
    "plt.legend()\n",
    "plt.title('Response to $u_{2t}$')\n",
    "plt.show()"
   ]
  },
  {
   "cell_type": "markdown",
   "metadata": {},
   "source": [
    "The above figure displays the impulse response of consumption and the\n",
    "deficit to the innovations in the econometrician’s Wold representation\n",
    "\n",
    "- this is the object that would be recovered from a high order vector\n",
    "  autoregression on the econometrician’s observations  \n",
    "\n",
    "\n",
    "Consumption responds only to the first innovation\n",
    "\n",
    "- this is indicative of the Granger causality imposed on the\n",
    "  $ [c_t, c_t - d_t] $ process by Hall’s model: consumption Granger\n",
    "  causes $ c_t - d_t $, with no reverse causality  "
   ]
  },
  {
   "cell_type": "code",
   "execution_count": 6,
   "metadata": {
    "hide-output": false
   },
   "outputs": [
    {
     "data": {
      "image/png": "[encoded data removed]",
      "text/plain": [
       "<Figure size 864x288 with 2 Axes>"
      ]
     },
     "metadata": {
      "needs_background": "light"
     },
     "output_type": "display_data"
    }
   ],
   "source": [
    "# This is Fig 8.E.3 from p.189 of HS2013\n",
    "\n",
    "jj = 20\n",
    "irf_wlss = w_lss.impulse_response(jj)\n",
    "ycoefs = irf_wlss[1]\n",
    "# Pull out the shocks\n",
    "a1_w1 = np.empty(jj)\n",
    "a1_w2 = np.empty(jj)\n",
    "a2_w1 = np.empty(jj)\n",
    "a2_w2 = np.empty(jj)\n",
    "\n",
    "for t in range(jj):\n",
    "    a1_w1[t] = ycoefs[t][0, 0]\n",
    "    a1_w2[t] = ycoefs[t][0, 1]\n",
    "    a2_w1[t] = ycoefs[t][1, 0]\n",
    "    a2_w2[t] = ycoefs[t][1, 1]\n",
    "\n",
    "plt.figure(figsize=(12, 4))\n",
    "plt.subplot(121)\n",
    "plt.plot(a1_w1, label='Consumption innov.')\n",
    "plt.plot(a2_w1, label='Deficit innov.')\n",
    "plt.title('Response to $w_{1t}$')\n",
    "plt.legend()\n",
    "plt.subplot(122)\n",
    "plt.plot(a1_w2, label='Consumption innov.')\n",
    "plt.plot(a2_w2, label='Deficit innov.')\n",
    "plt.legend()\n",
    "plt.title('Response to $w_{2t}$')\n",
    "plt.show()"
   ]
  },
  {
   "cell_type": "markdown",
   "metadata": {},
   "source": [
    "The above figure displays the impulse responses of $ u_t $ to\n",
    "$ w_t $, as depicted in:\n",
    "\n",
    "$$\n",
    "u_t = \\sum_{j=0}^\\infty \\alpha_j w_{t-j}\n",
    "$$\n",
    "\n",
    "While the responses of the innovations to consumption are concentrated\n",
    "at lag zero for both components of $ w_t $, the responses of the\n",
    "innovations to $ (c_t - d_t) $ are spread over time (especially in\n",
    "response to $ w_{1t} $)\n",
    "\n",
    "Thus, the innovations to $ (c_t - d_t) $ as revealed by the vector\n",
    "autoregression depend on what the economic agent views as “old news”"
   ]
  }
 ],
 "metadata": {
  "filename": "hs_invertibility_example.rst",
  "kernelspec": {
   "display_name": "Python",
   "language": "python3",
   "name": "python3"
  },
  "language_info": {
   "codemirror_mode": {
    "name": "ipython",
    "version": 3
   },
   "file_extension": ".py",
   "mimetype": "text/x-python",
   "name": "python",
   "nbconvert_exporter": "python",
   "pygments_lexer": "ipython3",
   "version": "3.7.0"
  },
  "title": "Shock Non Invertibility"
 },
 "nbformat": 4,
 "nbformat_minor": 2
}
